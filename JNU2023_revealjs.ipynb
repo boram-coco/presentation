{
 "cells": [
  {
   "cell_type": "raw",
   "id": "f8e0294c-740a-4a98-8a04-08b5cc173243",
   "metadata": {},
   "source": [
    "---\n",
    "title: \"Research on Anomaly Detection in Credit Card Fraud Transactions Using GCN\"\n",
    "bibliography: ref.bib\n",
    "author: \"Boram KIM\"\n",
    "title-block-style: default\n",
    "title-block-banner: true\n",
    "format:\n",
    "  revealjs:\n",
    "    chalkboard: true\n",
    "    slide-number: true\n",
    "    suppress-bibliography: true\n",
    "---"
   ]
  },
  {
   "cell_type": "markdown",
   "id": "6fc699f2-ab3f-4d43-90e5-f9826654c9a5",
   "metadata": {},
   "source": [
    "\n",
    "subtitle: \"A new multiscale method for non-Euclidean data\""
   ]
  },
  {
   "cell_type": "markdown",
   "id": "66966902",
   "metadata": {},
   "source": [
    "## Contents \n",
    "\n",
    "- Intor\n",
    "\n",
    "- Proposed method (quick view) \n",
    "\n",
    "- Related studies\n",
    "\n",
    "- Proposed method\n",
    "\n",
    "- Real data analysis\n"
   ]
  },
  {
   "cell_type": "markdown",
   "id": "77a383fa-ca03-454f-be6b-0e22711f4d24",
   "metadata": {},
   "source": [
    "# Motivation"
   ]
  },
  {
   "cell_type": "markdown",
   "id": "31f91c0a-1e3a-4d74-95db-d5e31efac8ca",
   "metadata": {},
   "source": [
    "신용카드 사기, 사이버 침입 등과 같은 이상값은 데이터를 학습하는데 있어 불필요한 요소이다. 이상치 탐지를 위한 연구 방법론 중 기계학습은 AI를 활용해 데이터를 학습시키는 지도학습의 방법으로 뛰어난 이상치 탐지 기법 중 하나이다. 이상치를 탐지하기 위한 적용 분야로는 사이버 보안, 의학 분야, 금융 분야 등 다양한 분야가 있으며 본 연구에서는 금융 분야에 관심을 두고 연구하기로 한다.\n",
    "\n",
    "2022년 한국은행이 발표한 '2021년 경제주체별 현금사용행태 조사'*(3년 마다 진행되는 조사)결과에 따르면, 현금 사용 비중은 2015년 38.8%에서 2018년 32.1%로 하락한 뒤 이번에 처음으로 20%대로 낮아졌다. 반면 신용·체크카드 비중은 2015년 37.4%, 2018년 52.0%, 2021년 58.3%로 증가했다.\n",
    "\n",
    "출처 : 경남일보 - 우리나라 최초의 지역신문(http://www.gnnews.co.kr)\n",
    "\n",
    "\n",
    "IT의 보급으로 많은 나라들이 현금을 사용하기 보다 신용 카드를 이용해 사용하고 있다. 모바일 신분증이 나오는 추세인 만큼, 현금의 유동성은 감소하고 가상 화폐, 카드 등의 거래가 커지고 있는 셈이다. 카드의 활용도가 높아질수록 사기거래가 확대되고 있다. 카드의 사기거래를 파악하지 못하게 되면 이는 커다란 금융 피해를 야기하게 된다. \n",
    "\n",
    "기존의 사기거래 탐지 기법으로 소개된 기계학습 방법론들은 사기 거래마다 독립성을 가정해 데이터를 학습한다. 이는 전체의 데이터 중 사기 거래를 파악하는 데 있어 우수한 성능을 보일 수 있다. **하지만, 전체 사기 거래 여부보다는 개인의 사기 거래 해당 여부 파악이 중요하다. ~~ 고객과 카드사의 입장에서는 전체의 거래에서의 사기 거래 여부도 중요하지만, 고객별 사기거래 여부를 파악하는 것이 중요하다.**\n",
    " "
   ]
  },
  {
   "cell_type": "markdown",
   "id": "e09ef24e-ab10-4495-8747-0071469d1358",
   "metadata": {},
   "source": [
    "*** 이분형 그래프 이야기"
   ]
  },
  {
   "cell_type": "code",
   "execution_count": null,
   "id": "fbcb3e16-797d-4135-bf24-bdb2dc4b2b30",
   "metadata": {},
   "outputs": [],
   "source": []
  },
  {
   "cell_type": "markdown",
   "id": "2cd6fb34-3323-497d-abe3-306d36469ba8",
   "metadata": {},
   "source": [
    "# Proposed method"
   ]
  },
  {
   "cell_type": "markdown",
   "id": "5b15278c-b781-4994-a952-6b1a9e35386d",
   "metadata": {},
   "source": [
    "# Realted Studies"
   ]
  },
  {
   "cell_type": "code",
   "execution_count": null,
   "id": "e4179f29-dde4-4f9b-a2c8-ea848ff1745f",
   "metadata": {},
   "outputs": [],
   "source": []
  }
 ],
 "metadata": {
  "kernelspec": {
   "display_name": "Python 3 (ipykernel)",
   "language": "python",
   "name": "python3"
  },
  "language_info": {
   "codemirror_mode": {
    "name": "ipython",
    "version": 3
   },
   "file_extension": ".py",
   "mimetype": "text/x-python",
   "name": "python",
   "nbconvert_exporter": "python",
   "pygments_lexer": "ipython3",
   "version": "3.8.18"
  }
 },
 "nbformat": 4,
 "nbformat_minor": 5
}
