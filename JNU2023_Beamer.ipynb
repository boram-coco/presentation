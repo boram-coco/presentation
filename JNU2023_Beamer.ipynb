{
 "cells": [
  {
   "cell_type": "raw",
   "id": "f8e0294c-740a-4a98-8a04-08b5cc173243",
   "metadata": {},
   "source": [
    "---\n",
    "title: \"Heavy-snow transform\"\n",
    "bibliography: ref.bib\n",
    "subtitle: \"A new multiscale method for non-Euclidean data\"\n",
    "author: \"Guebin Choi\"\n",
    "title-block-style: default\n",
    "title-block-banner: true\n",
    "format: beamer\n",
    "---"
   ]
  },
  {
   "cell_type": "markdown",
   "id": "66966902",
   "metadata": {},
   "source": [
    "## Contents \n",
    "\n",
    "- Motivation \n",
    "\n",
    "- Proposed method (quick view) \n",
    "\n",
    "- Related studies\n",
    "\n",
    "- Proposed method\n",
    "\n",
    "- Real data analysis\n"
   ]
  },
  {
   "cell_type": "markdown",
   "id": "30876555-dd30-4f06-81d9-b2954a3d8786",
   "metadata": {},
   "source": [
    "> 확인"
   ]
  },
  {
   "cell_type": "markdown",
   "id": "a4b8da23-14d3-451d-b527-2e8f92b9ef20",
   "metadata": {},
   "source": [
    "## Motivation"
   ]
  },
  {
   "cell_type": "markdown",
   "id": "e85aa20c-f55b-460c-8b30-dc34392c55ca",
   "metadata": {},
   "source": [
    "# Abstract"
   ]
  },
  {
   "cell_type": "markdown",
   "id": "e4616c58-8239-4e0a-a0ae-324a89c5a36b",
   "metadata": {},
   "source": [
    "- Conventional outlier detection methods often assume independence among observed data points. However, in reality, some data points may exhibit interconnections, rendering these methods less suitable. In this study, we propose a novel outlier detection approach leveraging Graph Neural Networks (GNN) and Graph Convolutional Networks (GCN). This method focuses on identifying connections among outliers and utilizes this information for outlier detection. To demonstrate the utility of the proposed approach, we applied it to credit card transaction data from European cardholders in September 2013 to detect fraudulent transactions. Our research outperformed state-of-the-art models such as XGBoost and LightGBM, showcasing superior performance in outlier detection."
   ]
  },
  {
   "cell_type": "code",
   "execution_count": null,
   "id": "4d4c3427-076d-48d3-b8e9-6c897e07b46e",
   "metadata": {},
   "outputs": [],
   "source": []
  }
 ],
 "metadata": {
  "kernelspec": {
   "display_name": "Python 3 (ipykernel)",
   "language": "python",
   "name": "python3"
  },
  "language_info": {
   "codemirror_mode": {
    "name": "ipython",
    "version": 3
   },
   "file_extension": ".py",
   "mimetype": "text/x-python",
   "name": "python",
   "nbconvert_exporter": "python",
   "pygments_lexer": "ipython3",
   "version": "3.8.18"
  }
 },
 "nbformat": 4,
 "nbformat_minor": 5
}
