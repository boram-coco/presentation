{
 "cells": [
  {
   "cell_type": "raw",
   "id": "f8e0294c-740a-4a98-8a04-08b5cc173243",
   "metadata": {},
   "source": [
    "---\n",
    "title: \"Heavy-snow transform\"\n",
    "bibliography: ref.bib\n",
    "subtitle: \"A new multiscale method for non-Euclidean data\"\n",
    "author: \"Guebin Choi\"\n",
    "title-block-style: default\n",
    "title-block-banner: true\n",
    "format: beamer\n",
    "---"
   ]
  },
  {
   "cell_type": "markdown",
   "id": "66966902",
   "metadata": {},
   "source": [
    "## Contents \n",
    "\n",
    "- Motivation \n",
    "\n",
    "- Proposed method (quick view) \n",
    "\n",
    "- Related studies\n",
    "\n",
    "- Proposed method\n",
    "\n",
    "- Real data analysis\n"
   ]
  },
  {
   "cell_type": "markdown",
   "id": "30876555-dd30-4f06-81d9-b2954a3d8786",
   "metadata": {},
   "source": [
    "> 확인"
   ]
  },
  {
   "cell_type": "code",
   "execution_count": null,
   "id": "15fddb3e-845d-4a16-bae0-9d90e7676fdf",
   "metadata": {},
   "outputs": [],
   "source": []
  }
 ],
 "metadata": {
  "kernelspec": {
   "display_name": "Python 3 (ipykernel)",
   "language": "python",
   "name": "python3"
  },
  "language_info": {
   "codemirror_mode": {
    "name": "ipython",
    "version": 3
   },
   "file_extension": ".py",
   "mimetype": "text/x-python",
   "name": "python",
   "nbconvert_exporter": "python",
   "pygments_lexer": "ipython3",
   "version": "3.8.18"
  }
 },
 "nbformat": 4,
 "nbformat_minor": 5
}
