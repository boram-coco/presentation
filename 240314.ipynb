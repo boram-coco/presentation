{
 "cells": [
  {
   "cell_type": "code",
   "execution_count": 1,
   "id": "8bd8cef0-4947-4387-9868-e7931defe66f",
   "metadata": {},
   "outputs": [],
   "source": [
    "import os"
   ]
  },
  {
   "cell_type": "code",
   "execution_count": 2,
   "id": "25de8852-ea64-48bc-8c15-4c2421738748",
   "metadata": {},
   "outputs": [],
   "source": [
    "#| output: false\n",
    "import pandas as pd \n",
    "import plotly.express as px\n",
    "import plotly.io as pio\n",
    "import pickle\n",
    "#import itables\n",
    "pio.templates.default = \"plotly_white\"\n",
    "# df_kaggle = pd.read_csv(\"mbti_1.csv\")\n",
    "file_names = [\n",
    "    \"plot_fraud_over_time.pkl\"\n",
    "]\n",
    "def _load(path):\n",
    "    with open(path,'rb') as f:\n",
    "        rtn = pickle.load(f)\n",
    "    return rtn \n",
    "    \n",
    "#figs = {fname.replace('.pkl',''): _load(f'./{fname}') for fname in file_names}\n"
   ]
  },
  {
   "cell_type": "code",
   "execution_count": 3,
   "id": "6eebbcc2-9b24-45bd-a43d-010ed80771e2",
   "metadata": {},
   "outputs": [],
   "source": []
  },
  {
   "cell_type": "raw",
   "id": "251ea571-7cf9-4a3c-88db-729b33f0d9be",
   "metadata": {},
   "source": [
    "---\n",
    "title: \"Research on Anomaly Detection in Credit Card Fraud Transactions Using GCN\"\n",
    "bibliography: ref.bib\n",
    "author: \"Boram KIM\"\n",
    "institute: \"Department of Statistics, Jeonbuk National University\"\n",
    "title-block-style: default\n",
    "title-block-banner: true\n",
    "execute: \n",
    "  enabled: true\n",
    "  cache: false\n",
    "  freeze: false  \n",
    "format:\n",
    "  revealjs:\n",
    "    chalkboard: true\n",
    "    slide-number: true\n",
    "    suppress-bibliography: false\n",
    "---"
   ]
  },
  {
   "cell_type": "markdown",
   "id": "8291c707-4d1b-408e-97ad-c8c0d2928148",
   "metadata": {
    "tags": []
   },
   "source": [
    "# Contents \n",
    "\n",
    "- Introduction\n",
    "\n",
    "- Related studies\n",
    "\n",
    "- Data Description\n",
    "\n",
    "- Proposed method\n",
    "\n",
    "- Real data analysis\n"
   ]
  },
  {
   "cell_type": "markdown",
   "id": "d20495ce-1dc1-41e5-80e1-aec08d6b9e1c",
   "metadata": {},
   "source": [
    "# Introduction"
   ]
  },
  {
   "cell_type": "markdown",
   "id": "80949ba1-e1dd-4cce-8383-4c9b61c923e9",
   "metadata": {},
   "source": [
    "## Introduction\n",
    "\n",
    "\n",
    "- With the advancement of information technology (IT), many countries are reducing the use of cash and opting for credit cards. According to the '2021 Survey on Cash Usage Behavior by Economic Entities' announced by the Bank of Korea in 2022 (which is conducted every three years), the proportion of cash usage in South Korea has dropped significantly. "
   ]
  },
  {
   "cell_type": "markdown",
   "id": "c8fb309e-64fc-4ac7-8aba-e22eca5ea08b",
   "metadata": {},
   "source": [
    "::: {.notes}\n",
    "\n",
    "- IT 등 정보기술의 발달로 많은 나라가 현금의 사용을 줄이고 신용 카드를 이용해 사용하고 있다. 우리나라도 2022년 한국은행이 발표한 '2021년 경제주체별 현금사용행태 조사'*(3년 마다 진행되는 조사)결과에 따르면, 현금 사용 비중은 2015년 38.8%에서 2018년 32.1%로 하락한 뒤 이번에 처음으로 20%대로 낮아졌다. 반면 신용·체크카드 비중은 2015년 37.4%, 2018년 52.0%, 2021년 58.3%로 증가했다.(출처: 한국은행-2021년 경제주체별 현금사용행태 조사 결과)\n",
    "\n",
    ":::"
   ]
  },
  {
   "cell_type": "markdown",
   "id": "be3c3b8e-ddcd-499f-8185-57cc9222615c",
   "metadata": {
    "tags": []
   },
   "source": [
    "## Introduction\n",
    "\n",
    "![Figure 1: 2021 Survey on Cash Usage Behavior by Economic Entities](./figure/F1.png){width=70%}"
   ]
  },
  {
   "cell_type": "markdown",
   "id": "f8b42503-ed12-4944-bcf8-71eca1d50ea6",
   "metadata": {},
   "source": [
    "::: {.notes}\n",
    "\n",
    "우리나라도 2022년 한국은행이 발표한 '2021년 경제주체별 현금사용행태 조사'*(3년 마다 진행되는 조사)결과에 따르면, 현금 사용 비중은 2015년 38.8%에서 2018년 32.1%로 하락한 뒤 이번에 처음으로 20%대로 낮아졌다. 반면 신용·체크카드 비중은 2015년 37.4%, 2018년 52.0%, 2021년 58.3%로 증가했다.(출처: 한국은행-2021년 경제주체별 현금사용행태 조사 결과)\n",
    "\n",
    "\n",
    "- Cash usage decreased from 38.8% in 2015 to 32.1% in 2018, and for the first time, it fell into the 20% range. In contrast, the proportion of credit and debit card usage increased from 37.4% in 2015 to 52.0% in 2018, and further to 58.3% in 2021.\n",
    "\n",
    ":::"
   ]
  },
  {
   "cell_type": "code",
   "execution_count": 4,
   "id": "c7db16fc-5dca-4ae1-b4b2-f8999c5d7fb8",
   "metadata": {},
   "outputs": [],
   "source": []
  },
  {
   "cell_type": "markdown",
   "id": "f7c36bdf-b3b8-4a18-a4d1-91ce603ad349",
   "metadata": {},
   "source": [
    "## Introduction\n",
    "\n",
    "- As cash liquidity decreases, transactions through virtual currencies, cards, and other electronic means are on the rise. While the use of credit cards offers convenience for consumers and facilitates analysis of spending patterns, it also raises concerns about card fraud. If card issuers and consumers fail to detect fraudulent transactions, it can lead to significant financial losses."
   ]
  },
  {
   "cell_type": "markdown",
   "id": "cbbb5f8c-88fb-4b6f-8d65-30530ebb9019",
   "metadata": {},
   "source": [
    "::: {.notes}\n",
    "\n",
    "- 현금의 유동성은 감소하고 가상 화폐, 카드 등의 거래가 커지고 있는 셈이다. 신용카드의 사용은 소비자의 거래 편리성을 제공하고 소비 패턴을 분석하는데 있어 용이하지만, 카드 사기 거래를 야기시킨다. 이에 카드 발급기관 및 소비자는 카드의 사기거래를 파악하지 못하게 되면 커다란 금융 피해를 야기하게 된다. \n",
    "\n",
    ":::"
   ]
  },
  {
   "cell_type": "markdown",
   "id": "fd2d91b6-de49-4a31-bc22-7c082cc34247",
   "metadata": {},
   "source": [
    "## Introduction\n",
    "\n",
    "- Various studies have been conducted to detect fraudulent transactions in the past. These studies focused on learning and analyzing transaction amounts to identify fraudulent transactions. This assumption treats each transaction independently, making it difficult to determine individual fraudulent activities."
   ]
  },
  {
   "cell_type": "markdown",
   "id": "a224bd59-cf84-4dd1-8f83-934bdda2527e",
   "metadata": {},
   "source": [
    "::: {.notes}\n",
    "\n",
    "- 기존의 사기거래 여부를 파악하기 위해서 다양한 연구가 진행되어 왔다. 해당 연구는 사기 거래 파악을 위해 거래 금액에 집중하여 학습하고 분석하였다. 이러한 가정은 각 거래를 독립적으로 보므로 개인의 사기거래 여부 파악이 어렵다. \n",
    ":::"
   ]
  },
  {
   "cell_type": "markdown",
   "id": "40a3f229-5914-4f7a-a49e-58994970f492",
   "metadata": {},
   "source": [
    "## Introduction\n",
    "\n",
    "- Now, let's consider what happens if each transaction is not independent. Suppose a consumer loses their card; until the loss is detected, the card can be used for fraudulent transactions. In this study, when grouping the data by customer and visualizing it over time, the results appear as follows."
   ]
  },
  {
   "cell_type": "markdown",
   "id": "14ae02f3-60f8-4686-b8ab-cbc15a9e4fe2",
   "metadata": {},
   "source": [
    "::: {.notes}\n",
    "\n",
    "- 각 거래가 독립적이지 않다면, 어떻게 될지 간단하게 생각해보자. 소비자가 카드를 분실하는 경우, 분실 여부를 알기 전까지 카드는 사기 거래에 사용된다. 본 연구에서 사용할 데이터를 고객별로 그룹핑하고, 시간에 따라 시각화 해 본 결과 아래와 같이 나타난다.\n",
    "\n",
    ":::"
   ]
  },
  {
   "cell_type": "markdown",
   "id": "daad57fe-8e86-4c8a-a2f9-7e2721afc058",
   "metadata": {},
   "source": [
    "## Introduction\n",
    "\n",
    "- 그.. 그림파일? 보여주는거 어떻게 할지 생각쓰"
   ]
  },
  {
   "cell_type": "markdown",
   "id": "deb07dcf-6ffa-4cea-a3b3-cb644b660307",
   "metadata": {},
   "source": [
    "::: {.notes}\n",
    "\n",
    "- \n",
    "\n",
    ":::"
   ]
  },
  {
   "cell_type": "code",
   "execution_count": 5,
   "id": "0590b960-637c-450d-9ff4-0fdfc98b27b8",
   "metadata": {},
   "outputs": [],
   "source": []
  },
  {
   "cell_type": "code",
   "execution_count": 6,
   "id": "ab551d53-6936-414f-a231-188d516eb5aa",
   "metadata": {},
   "outputs": [],
   "source": []
  },
  {
   "cell_type": "code",
   "execution_count": 7,
   "id": "bb5bf82b-9c10-4a39-b0fb-ea6b6eeb42e6",
   "metadata": {},
   "outputs": [],
   "source": []
  },
  {
   "cell_type": "code",
   "execution_count": 8,
   "id": "cc27d17a-0d47-4875-b19f-a1fffdd15879",
   "metadata": {},
   "outputs": [],
   "source": []
  },
  {
   "cell_type": "markdown",
   "id": "41bc8374-4210-4366-82ee-027454b77374",
   "metadata": {
    "tags": []
   },
   "source": [
    "## Introduction\n",
    "\n",
    "::: {.panel-tabset}\n",
    "\n",
    "#### Introduction\n",
    "\n",
    "- In graph-based analysis, there are bipartite graphs and tripartite graphs. Bipartite graphs have difficulty detecting anomalies in individual transactions. Tripartite graphs allow for easier analysis at the individual level, but they are time-consuming and complex.\n",
    "\n",
    "#### bipartite graph\n",
    "\n",
    "![Figure 3:An example of a bipartite graph](./figure/F2.png){width=70%}\n",
    "\n",
    "#### tripartite graph\n",
    "\n",
    "![Figure 4:An example of a tripartite graph](./figure/F3.png){width=70%}\n",
    ":::"
   ]
  },
  {
   "cell_type": "markdown",
   "id": "ebf96ff9-056a-44eb-a75a-eb5ef879c640",
   "metadata": {},
   "source": [
    "::: {.notes}\n",
    "\n",
    "- 그래프 기반 분석 방법으로는 이분형 그래프와 삼분형 그래프가 있다. 이분형 그래프는 개별 거래의 이상치 탐지에 어려움이 있다. 삼분형은 개별 수준의 분석이 용이하지만 거래 시간이 오래 걸리고 복잡하다는 단점이 있다.\n",
    "\n",
    ":::"
   ]
  },
  {
   "cell_type": "markdown",
   "id": "a3e1db12-f0f6-45e2-9bef-80b362e09d6b",
   "metadata": {
    "tags": []
   },
   "source": [
    "## Introduction\n",
    "\n",
    "Therefore, in this study, we propose a method to enhance the connectivity of graphs using the time differences between transactions. Through this method, we aim to address the following questions:\n",
    "\n",
    "1. Is it easier to identify individual transactions compared to non-graph-based research methods?\n",
    "\n",
    "2. Is it simpler compared to graph-based research methods?"
   ]
  },
  {
   "cell_type": "markdown",
   "id": "f7d2f73a-d49c-4737-9a8e-e03203d52032",
   "metadata": {},
   "source": [
    "::: {.notes}\n",
    "\n",
    "이에 본 연구에서는 거래 간 시간 차이를 이용해 그래프의 연결성을 향상시키는 방법을 제안하고자 한다.\n",
    "이 방법을 통해 확인하고 싶은 내용은 다음과 같다.\n",
    "\n",
    "1. 비 그래프 기반 연구 방법에 비해 개별 거래 파악이 용이한가?\n",
    "\n",
    "2. 그래프 기반 연구 방법에 비해 간단한가? \n",
    "\n",
    "\n",
    ":::"
   ]
  },
  {
   "cell_type": "code",
   "execution_count": 9,
   "id": "9431b5e3-e4f5-48f3-aa89-0bcdb49f101a",
   "metadata": {},
   "outputs": [],
   "source": []
  },
  {
   "cell_type": "markdown",
   "id": "95f6d5db-0a0d-4935-8f3a-b2aca9367745",
   "metadata": {},
   "source": [
    "## Introduction\n",
    "\n",
    "To begin research on fraud detection based on graph analysis, let's first understand the concept of a graph.[@wu2020comprehensive][@scarselli2008graph]\n",
    "\n",
    "- Graph $G = (V,E)$ with $N$ nodes $i \\in v$ and $|E|$ edges $(i,j) \\in E$\n",
    "\n",
    "- $A \\in \\mathbb{R}^{N \\times N}$: adjacency matrix of $G$\n",
    "\n",
    "- $X \\in \\mathbb{R}^{N \\times P}$ is the matrix of node features\n",
    "\n",
    "- The graph $G$ consists of nodes and edges denoted by $(V,E)$, where $V$ represents the set of nodes and $E$ represents the set of edges. Each node and edge has its own features.\n",
    "\n",
    "\"그래프 간단한 특성? 사진()\""
   ]
  },
  {
   "cell_type": "markdown",
   "id": "b6df4758-4ea4-469c-9848-cc71aec59a5e",
   "metadata": {},
   "source": [
    "::: {.notes}\n",
    "\n",
    "그래프 관련 기반 사기 거래 탐지 연구를 위해서 먼저, 그래프에 대해 알아보자.\n",
    "\n",
    "- Graph $G = (V,E)$ with $N$ nodes $i \\in v$ and $|E|$ edges $(i,j) \\in E$\n",
    "\n",
    "- $A \\in \\mathbb{R}^{N \\times N}$: adjacency matrix of G\n",
    "\n",
    "- $X \\in \\mathbb{R}^{N \\times P}$ is matrix of node features\n",
    "\n",
    "- 그래프 G는 (V,E)로 이루어져 있고, V는 node, E는 edge의 집합이다. 각 노드와 에지는 특징을 가지고 있고 간단하게 아래와 같은 그림으로 나타낼 수 있다.\n",
    "\n",
    ":::"
   ]
  },
  {
   "cell_type": "code",
   "execution_count": 10,
   "id": "3e5ad1d7-f547-418a-a835-9c0946c44f64",
   "metadata": {},
   "outputs": [],
   "source": []
  },
  {
   "cell_type": "code",
   "execution_count": 11,
   "id": "8ed2b9aa-8a5f-4166-8526-2023e73b090b",
   "metadata": {},
   "outputs": [],
   "source": []
  },
  {
   "cell_type": "markdown",
   "id": "71d09ac0-ea3a-4e27-b19e-b8f4fd355d26",
   "metadata": {},
   "source": [
    "# Related Studies"
   ]
  },
  {
   "cell_type": "markdown",
   "id": "c872706a-9d07-433d-88f0-134ff887124a",
   "metadata": {
    "tags": []
   },
   "source": [
    "## Related Studies\n",
    "\n",
    "Supervised learning methods commonly researched for fraud detection include the following techniques.\n",
    "\n",
    "\n",
    "::: {.panel-tabset}\n",
    "\n",
    "#### Case-Based Reasoning\n",
    "Case-Based Reasoning is applied to reduce the number of final-line fraud investigations in the credit approval process, demonstrating that an adaptive solution can offer fraud filtering and case ordering functions, thus minimizing the required number of final-line fraud investigations.[@wheeler2000multiple]\n",
    "\n",
    "#### Logistic regression\n",
    "Logistic regression is useful for situations in which we want to be able to predict the presence or absence of a characteristic or outcome based on values of a set of predictor variables. [@shen2007application]\n",
    "\n",
    "#### Hidden Markov Model\n",
    "Hidden Markov Model is trained with normal behavior of cardholder. If an incoming credit card transaction is not accepted by the HMM with sufficiently high probability, it is considered to be fraudulent.  [@srivastava2008credit]\n",
    "\n",
    "#### Association rules\n",
    "Association rules are utilized to extract normal behavior patterns from credit card transaction databases for detecting and preventing fraud in abnormal transactions [@sanchez2009association]\n",
    "\n",
    "#### SVM\n",
    "SVM's effectiveness lies in its ability to handle imbalanced data, such as fraud detection, by leveraging the simplicity of linear classifiers and operating in feature-rich spaces. [@bhattacharyya2011data]\n",
    "\n",
    ":::"
   ]
  },
  {
   "cell_type": "markdown",
   "id": "a40eeb03-1c4b-4133-94fb-2cfaa248579c",
   "metadata": {},
   "source": [
    "::: {.notes}\n",
    "\n",
    "사기 거래 탐지 연구를 위한 지도학습 방법으로는 다음과 같은 방법이 많이 연구되어 왔다.\n",
    "\n",
    "- 사례 기반 추론은 신용 승인 프로세스에서 최종 단계 사기 조사의 수를 줄이는 데 적용되며, 적응형 솔루션이 사기 필터링 및 사례 정렬 기능을 제공하여 최종 단계 사기 조사의 필요 수를 최소화할 수 있음을 보여준다.\n",
    "\n",
    "- 로지스틱 회귀는 예측 변수 값에 기반하여 특성 또는 결과의 존재 또는 부재를 예측하고자 할 때 유용하다.\n",
    "\n",
    "- HMM은 카드 홀더의 정상적인 행동으로 훈련된다. HMM에서 수신되는 신용 카드 거래가 충분히 높은 확률로 수용되지 않으면 이를 사기로 간주한다.\n",
    "\n",
    "- 연관규칙은 비정상 거래에서 사기를 탐지하고 예방하기 위해 신용카드 거래 데이터베이스에서 정상적인 행동 패턴을 추출하는 데 활용된다.\n",
    "\n",
    "- SVM은 선형 분류기의 간결함을 활용하고 특성이 풍부한 공간에서 작동함으로써 사기 탐지와 같은 불균형한 데이터를 작업하는 것에 활용성이 높다.\n",
    "\n",
    ":::"
   ]
  },
  {
   "cell_type": "markdown",
   "id": "b1855a0a-6c53-423a-b06a-dc5a2f55ae86",
   "metadata": {
    "tags": []
   },
   "source": [
    "## Related Studies\n",
    "\n",
    "Research on fraud transaction detection using graph models includes the following methods.\n",
    "\n",
    "\n",
    "::: {.panel-tabset}\n",
    "\n",
    "#### Graph\n",
    "\n",
    "A general, comprehensive, and structured overview of the state-of-the-art methods for anomaly detection in data represented as graphs. As a key contribution, we provide a comprehensive exploration of both data mining and machine learning algorithms for these {\\em detection} tasks. [@akoglu2015graph]\n",
    "\n",
    "#### GCN\n",
    "Graph Convolutional Networks (GCNs) are used to capture complex relationships between transactions and detect fraudulent activities based on the graph representation of transaction data.[@kipf2016semi]\n",
    "\n",
    "#### \n",
    "\n",
    ":::"
   ]
  },
  {
   "cell_type": "markdown",
   "id": "6e08f794-4a6f-45a6-b3dd-2d688d4c39ca",
   "metadata": {},
   "source": [
    "::: {.notes}\n",
    "\n",
    "사기 거래 탐지 연구를 위한 지도학습 방법으로는 다음과 같은 방법이 많이 연구되어 왔다.\n",
    "\n",
    "- 그래프\n",
    "\n",
    "데이터를 그래프로 표현한 경우의 이상 탐지에 대한 최신 기술 방법에 대한 일반적이고 포괄적이며 체계적인 개요를 제공한다. 주요 기여로는 이러한 탐지 작업을 위한 데이터 마이닝 및 기계 학습 알고리즘의 포괄적인 탐색을 제공한다.\n",
    "\n",
    ":::"
   ]
  },
  {
   "cell_type": "markdown",
   "id": "39c4241a-9894-45c8-a8af-987e988dd89e",
   "metadata": {},
   "source": [
    "`-` 관련연구: 신용카드 분석 / GCN anom / \n",
    "\n",
    "fraud detection/  gcn 교집합이 제일 좋음[@van2015apate]\n",
    "\n",
    "[@wang2019semi]\n",
    "\n",
    "[@jiang2019anomaly]\n",
    "\n"
   ]
  },
  {
   "cell_type": "code",
   "execution_count": 12,
   "id": "c7a497aa-587c-4314-853a-df91e9c7bc04",
   "metadata": {},
   "outputs": [],
   "source": []
  },
  {
   "cell_type": "markdown",
   "id": "993692a4-7a72-487d-a86b-c7c17e584fd7",
   "metadata": {},
   "source": [
    "# Data description"
   ]
  },
  {
   "cell_type": "markdown",
   "id": "df5b333e-9148-409e-8dce-1b271f4a2780",
   "metadata": {},
   "source": [
    "## Data description\n",
    "\n",
    "To identify fraudulent transactions using the method proposed in this study, we first prepare a dataset related to fraudulent transactions. Data can be obtained from sites such as Kaggle, credit card transactions, and financial transaction exchanges. However, such data is anonymized to protect customer privacy and is provided for data analysis purposes. To use the method proposed in this study, unique indices (in this study, cc_num is used), time, and nodes (in this study, amt is used) are required. As mentioned earlier, other datasets without indices or time are difficult to use in this study.\n"
   ]
  },
  {
   "cell_type": "markdown",
   "id": "0d844b2c-1a94-4eb8-82da-f6d9c1a80250",
   "metadata": {},
   "source": [
    "::: {.notes}\n",
    "\n",
    "\n",
    "본 연구에서 제시한 방법으로 사기 거래를 파악하기 위해, 먼저 사기거래 관련 데이터셋을 준비한다. 데이터는 케글, 신용거래, 금융거래소 등의 사이트에서 얻을 수 있다. 다만 이러한 데이터들은 고객의 개인정보 보호를 위해 가명처리 되어 데이터 분석을 위해 제공된 데이터이다. 본 연구의 방법을 사용하기 위해서는 고유 index(본 연구에서는 cc_num을 사용하였다.), time, node(본 연구에서는 amt를 사용하였다.)가 필요하다. 앞서 말한 바와 같이 다른 데이터들은 index 혹은 time이 없는 데이터로 본 연구에서는 사용이 어렵다.\n",
    "\n",
    "\n",
    ":::"
   ]
  },
  {
   "cell_type": "markdown",
   "id": "d48e9f47-c3dc-42e0-ae8d-b99706badc76",
   "metadata": {},
   "source": [
    "> 데이터 표를 보여줄 필요는 없겠지!"
   ]
  },
  {
   "cell_type": "markdown",
   "id": "dc929195-38d8-4c7b-ba4a-aac9db8e780c",
   "metadata": {},
   "source": [
    "## Data description\n",
    "\n",
    "As mentioned earlier, since other datasets are difficult to use, this study utilizes a dataset containing credit card transaction records of European cardholders collected over one month in September 2013. It encompasses transactions that were conducted across a network of 800 merchants and includes data from\n",
    "1,000 individual cardholders. Originally, this dataset is composed of 23 distinct features that offer various insights into each transaction. However, for the purposes of\n",
    "this study, we have selectively utilized only a subset of these features that are deemed\n",
    "most relevant to our analysis objectives.\n"
   ]
  },
  {
   "cell_type": "markdown",
   "id": "3b587839-c33e-44fd-bf9e-2be58a4a0049",
   "metadata": {},
   "source": [
    "::: {.notes}\n",
    "\n",
    "앞서 말한 바와 같이, 다른 데이터 셋들은 사용이 어려우므로, 본 연구에서는 2013년 9월 한 달 동안 수집된 유럽 카드 소지자의 신용카드 거래 기록이 포함된 데이터 셋을 이용한다. 800개의 가맹점 네트워크에서 이루어진 거래가 포함되며 다음 데이터를 포함합니다.\n",
    "1,000명의 개별 카드 소유자. 원래 이 데이터 세트는 각 거래에 대한 다양한 인사이트를 제공하는 23개의 고유한 기능으로 구성되어 있습니다. 하지만 이 연구의 목적을 위해\n",
    "이 연구에서는 분석 목표와 가장 관련이 있다고 판단되는 일부 기능만\n",
    "분석 목표와 가장 관련이 있다고 판단되는 일부 기능만을 선택적으로 활용했습니다.\n",
    "\n",
    ":::"
   ]
  },
  {
   "cell_type": "markdown",
   "id": "a77cade5-ae09-4cbf-b6f8-57f0a5da58eb",
   "metadata": {
    "tags": []
   },
   "source": [
    "## Data description\n",
    "\n",
    "| Variable                 | Description                                           |\n",
    "|--------------------------|-------------------------------------------------------|\n",
    "| index                | Identifier for each row, row number.                  |\n",
    "| cc_num                | The customer's credit card number.                    |\n",
    "| trans_date_and_time    | Trading hours.                                       |\n",
    "|amt                   | Transaction amount.                                   |\n",
    "| is_fraud               | Indicate whether the transaction is fraudulent (0: legitimate, 1: fraudulent). |\n",
    "\n",
    "[Table 1: A list of data variables used in the study]"
   ]
  },
  {
   "cell_type": "markdown",
   "id": "bf76b678-eacd-4564-a6ab-4ec156fcb6ed",
   "metadata": {},
   "source": [
    "## Data description"
   ]
  },
  {
   "cell_type": "markdown",
   "id": "b557148d-ede4-4b19-826a-759d826deb4c",
   "metadata": {},
   "source": [
    "> 원 데이터 표 형식으로 추가?"
   ]
  },
  {
   "cell_type": "markdown",
   "id": "062b409f-7a9a-42c7-a0fa-fc718f0906ce",
   "metadata": {},
   "source": [
    "## Data description"
   ]
  },
  {
   "cell_type": "markdown",
   "id": "6bd03f0b-91fb-4ee1-90e8-4f2c14b7dfa4",
   "metadata": {},
   "source": [
    "> 활용 데이터 표 형식으로 추가?"
   ]
  },
  {
   "cell_type": "markdown",
   "id": "5c4d0990-22c7-4ddb-9e94-171a474f4eef",
   "metadata": {},
   "source": [
    "# Proposed method"
   ]
  },
  {
   "cell_type": "markdown",
   "id": "aaa30449-6e98-4c69-846f-17408423cde3",
   "metadata": {},
   "source": [
    "## Proposed method\n",
    "\n",
    "- $\\mathbf{X}$ is a matrix with $N$ rows and $\\mathbf{y}$ is a vector of length $N$. \n",
    "\n",
    "- $\\mathbf{y}$ contains labels indicating fraud presence, while $\\mathbf{X}$ represents the design matrix for predicting $\\mathbf{y}$. \n",
    "\n",
    "- We interpret the data as a graph. \n",
    "\n",
    "- Let $\\mathcal{I}$ be the set of $\\text{cc_num}$."
   ]
  },
  {
   "cell_type": "markdown",
   "id": "58de03d0-e2bd-42f4-9a37-68073353e2fe",
   "metadata": {},
   "source": [
    "## Proposed method\n",
    "\n",
    "let $\\cal T_i, i \\in \\cal I$, be the set of transaction times for the $i$-th customer. The given data can be expressed as $\\cal D:=\\{(\\bf X_{i,t},{\\bf y}_{i,t}): i \\in {\\cal I}, t \\in {\\cal T}_i \\}$. To represent the graph structure, we need to define nodes and edges. The set of nodes is defined as $\\cal V = \\{v_{i,t}: i \\in {\\cal I}, t \\in {\\cal T}_i \\}$. Note that $|{\\cal V}|=\\sum_{i \\in {\\cal I}} |{\\cal T}_i|=N$. The links between data points are defined as ${\\cal E} = \\bigcup_{i \\in {\\cal I}} \\{ (v_{i,t},v_{i,s}) : t,s \\in {\\cal T}_i \\text{ and } t\\neq s \\}$, considering connections only within the same customer. "
   ]
  },
  {
   "cell_type": "markdown",
   "id": "c636d7a5-daeb-48d9-a34d-b9a3d4a75089",
   "metadata": {},
   "source": [
    "## Proposed method\n",
    "\n",
    "For a fixed $i \\in {\\cal I}$, the $(t,s)$-th elements of ${\\bf W}_i$ are defined as $\\exp(\\frac{-|t-s|_2^2}{\\theta})$ where $t,s \\in {\\cal T}_i$, and the $N \\times N$ weight matrix ${\\bf W}$ is defined as the following block matrix:\n",
    "\n",
    "${\\bf W}=\\begin{bmatrix}\n",
    "{\\bf W}_1 & {\\bf 0} & {\\bf 0} & \\dots & {\\bf 0} \\\\ \n",
    "{\\bf 0} & {\\bf W}_2 & {\\bf 0} & \\dots & {\\bf 0} \\\\ \n",
    "{\\bf 0} & {\\bf 0} & {\\bf W}_3 & \\dots & {\\bf 0} \\\\ \n",
    "\\dots & \\dots & \\dots & \\dots & \\dots \\\\ \n",
    "{\\bf 0} & {\\bf 0} & {\\bf 0} & \\dots & {\\bf W}_{|{\\cal I}|}\n",
    "\\end{bmatrix}$\n",
    "\n",
    "Note that if ${\\bf W}={\\bf I}$, it implies a classical tabular data structure rather than a graph data structure. ${\\bf A}$ is the adjacency matrix corresponding to ${\\bf W}$."
   ]
  },
  {
   "cell_type": "markdown",
   "id": "5260d0fb-a731-4316-be4e-83dc8bc5d2db",
   "metadata": {},
   "source": [
    "## Proposed method\n",
    "\n",
    "[@kipf2016semi] To predict ${\\bf y}$, we stacked graph convolution layers as follows:\n",
    "\n",
    "$${\\bf H}^{(l+1)} = \\sigma\\big({\\bf D}^{-1/2}{\\bf A}{\\bf D}^{-1/2}{\\bf H}^{(l)} {\\bf \\Theta}^{(l)}) \\big)$$\n",
    "\n",
    "Here, ${\\bf D}$ is the degree matrix of ${\\bf A}, {\\bf \\Theta}^{(l)}$ represents the learnable parameters, and $\\sigma$ denotes the activation function. ${\\bf H}^{(l)}$ is the input for the $l$th layer, and ${\\bf H}^{(l+1)}$ is the output, where for $l=0, {\\bf H}^{(0)}={\\bf X}$, and the output of the final layer is defined as ${\\bf y}$.\n"
   ]
  },
  {
   "cell_type": "markdown",
   "id": "48e7bebc-d0ae-403d-970e-3992b2ab8f9b",
   "metadata": {},
   "source": [
    "# Experimental Research"
   ]
  },
  {
   "cell_type": "markdown",
   "id": "422658b8-e540-4861-8e57-a6b6d0b20dc4",
   "metadata": {},
   "source": [
    "## Experimetal setting"
   ]
  },
  {
   "cell_type": "code",
   "execution_count": 13,
   "id": "87ffce42-1bf9-4353-8ee2-e9c4e0c49bbd",
   "metadata": {},
   "outputs": [],
   "source": []
  },
  {
   "cell_type": "code",
   "execution_count": 14,
   "id": "8ed8ebf8-f51c-4739-b506-50aa4029ae7f",
   "metadata": {},
   "outputs": [],
   "source": []
  },
  {
   "cell_type": "markdown",
   "id": "85f88cac-ec87-4a33-977c-d5dfd6bba15c",
   "metadata": {},
   "source": [
    "실험1\n",
    "\n",
    "원 데이터 pyod / autogluon / proposed"
   ]
  },
  {
   "cell_type": "markdown",
   "id": "426eb436-454f-4141-b4b9-d1f801ca98aa",
   "metadata": {},
   "source": [
    "실험2\n",
    "\n",
    "df50 pyod / autogluon / proposed"
   ]
  },
  {
   "cell_type": "markdown",
   "id": "f69bcea0-4260-4d64-aed4-86130e4d5069",
   "metadata": {},
   "source": [
    "실험3\n",
    "\n"
   ]
  },
  {
   "cell_type": "markdown",
   "id": "5afddd48-3d40-4b5f-bd94-daa8ce0e3cff",
   "metadata": {},
   "source": [
    "## Experimet\n",
    "\n",
    "::: {.panel-tabset}\n",
    "\n",
    "#### Proposed method\n",
    "\n",
    "Performance of proposed method across different fraud rates in training data\n",
    "\n",
    "#### Autogluon\n",
    "\n",
    "Performance of Autogluon method across different fraud rates in training data\n",
    "\n",
    "\n",
    "#### Pyod\n",
    "\n",
    "Performance of Pyod method across different fraud rates in training data\n",
    ":::"
   ]
  },
  {
   "cell_type": "markdown",
   "id": "f9bd4f76-5a78-4cf5-b347-d63c79b7eaf5",
   "metadata": {},
   "source": [
    "# Conclusion and Discussion"
   ]
  },
  {
   "cell_type": "markdown",
   "id": "da771c4b-5d4a-4b0a-b05d-8f68c7ed0273",
   "metadata": {},
   "source": [
    "# Reference"
   ]
  },
  {
   "cell_type": "code",
   "execution_count": 15,
   "id": "649d9020-460d-4143-b5c3-86dc8d96f974",
   "metadata": {},
   "outputs": [],
   "source": []
  }
 ],
 "metadata": {
  "kernelspec": {
   "display_name": "Python 3 (ipykernel)",
   "language": "python",
   "name": "python3"
  },
  "language_info": {
   "codemirror_mode": {
    "name": "ipython",
    "version": 3
   },
   "file_extension": ".py",
   "mimetype": "text/x-python",
   "name": "python",
   "nbconvert_exporter": "python",
   "pygments_lexer": "ipython3",
   "version": "3.9.13"
  }
 },
 "nbformat": 4,
 "nbformat_minor": 5
}
