{
 "cells": [
  {
   "cell_type": "raw",
   "id": "f8e0294c-740a-4a98-8a04-08b5cc173243",
   "metadata": {},
   "source": [
    "---\n",
    "title: \"Research on Anomaly Detection in Credit Card Fraud Transactions Using GCN\"\n",
    "bibliography: ref.bib\n",
    "author: \"Boram KIM\"\n",
    "institute: \"Department of Statistics, Jeonbuk National University\"\n",
    "title-block-style: default\n",
    "title-block-banner: true\n",
    "format:\n",
    "  revealjs:\n",
    "    chalkboard: true\n",
    "    slide-number: true\n",
    "    suppress-bibliography: false\n",
    "---"
   ]
  },
  {
   "cell_type": "markdown",
   "id": "66966902",
   "metadata": {
    "tags": []
   },
   "source": [
    "# Contents \n",
    "\n",
    "- Introduction\n",
    "\n",
    "- Related studies\n",
    "\n",
    "- Data Description\n",
    "\n",
    "- Proposed method\n",
    "\n",
    "- Real data analysis\n"
   ]
  },
  {
   "cell_type": "markdown",
   "id": "4ffda78f-8cf4-419a-9e3b-6f06b796e3ce",
   "metadata": {},
   "source": [
    "# Introduction"
   ]
  },
  {
   "cell_type": "markdown",
   "id": "4cdc937a-a0a2-46eb-9672-7fd263ba3adc",
   "metadata": {},
   "source": [
    "## Introduction\n",
    "\n",
    "\n",
    "- With the advancement of information technology (IT), many countries are reducing the use of cash and opting for credit cards. According to the '2021 Survey on Cash Usage Behavior by Economic Entities' announced by the Bank of Korea in 2022 (which is conducted every three years), the proportion of cash usage in South Korea has dropped significantly. "
   ]
  },
  {
   "cell_type": "markdown",
   "id": "16b4d257-3c98-429d-8de9-1901ee094f96",
   "metadata": {},
   "source": [
    "::: {.notes}\n",
    "\n",
    "- IT 등 정보기술의 발달로 많은 나라가 현금의 사용을 줄이고 신용 카드를 이용해 사용하고 있다. 우리나라도 2022년 한국은행이 발표한 '2021년 경제주체별 현금사용행태 조사'*(3년 마다 진행되는 조사)결과에 따르면, 현금 사용 비중은 2015년 38.8%에서 2018년 32.1%로 하락한 뒤 이번에 처음으로 20%대로 낮아졌다. 반면 신용·체크카드 비중은 2015년 37.4%, 2018년 52.0%, 2021년 58.3%로 증가했다.(출처: 한국은행-2021년 경제주체별 현금사용행태 조사 결과)\n",
    "\n",
    ":::"
   ]
  },
  {
   "cell_type": "markdown",
   "id": "eab4667f-6645-495b-9b36-2a4e12a96866",
   "metadata": {
    "tags": []
   },
   "source": [
    "## Introduction\n",
    "\n",
    "![Figure 1: 2021 Survey on Cash Usage Behavior by Economic Entities](./figure/F1.png){width=70%}"
   ]
  },
  {
   "cell_type": "markdown",
   "id": "50350c53-2dda-4ef7-9966-91ae6233993b",
   "metadata": {},
   "source": [
    "::: {.notes}\n",
    "\n",
    "우리나라도 2022년 한국은행이 발표한 '2021년 경제주체별 현금사용행태 조사'*(3년 마다 진행되는 조사)결과에 따르면, 현금 사용 비중은 2015년 38.8%에서 2018년 32.1%로 하락한 뒤 이번에 처음으로 20%대로 낮아졌다. 반면 신용·체크카드 비중은 2015년 37.4%, 2018년 52.0%, 2021년 58.3%로 증가했다.(출처: 한국은행-2021년 경제주체별 현금사용행태 조사 결과)\n",
    "\n",
    "\n",
    "- Cash usage decreased from 38.8% in 2015 to 32.1% in 2018, and for the first time, it fell into the 20% range. In contrast, the proportion of credit and debit card usage increased from 37.4% in 2015 to 52.0% in 2018, and further to 58.3% in 2021.\n",
    "\n",
    ":::"
   ]
  },
  {
   "cell_type": "code",
   "execution_count": null,
   "id": "47c6af3b-cd40-4ef2-b871-8c72bc7685c6",
   "metadata": {},
   "outputs": [],
   "source": []
  },
  {
   "cell_type": "markdown",
   "id": "50fdf155-4aa1-4f10-a388-5681434994f1",
   "metadata": {},
   "source": [
    "## Introduction\n",
    "\n",
    "- As cash liquidity decreases, transactions through virtual currencies, cards, and other electronic means are on the rise. While the use of credit cards offers convenience for consumers and facilitates analysis of spending patterns, it also raises concerns about card fraud. If card issuers and consumers fail to detect fraudulent transactions, it can lead to significant financial losses."
   ]
  },
  {
   "cell_type": "markdown",
   "id": "8319f5e8-66af-411e-ab2b-7762f3047180",
   "metadata": {},
   "source": [
    "::: {.notes}\n",
    "\n",
    "- 현금의 유동성은 감소하고 가상 화폐, 카드 등의 거래가 커지고 있는 셈이다. 신용카드의 사용은 소비자의 거래 편리성을 제공하고 소비 패턴을 분석하는데 있어 용이하지만, 카드 사기 거래를 야기시킨다. 이에 카드 발급기관 및 소비자는 카드의 사기거래를 파악하지 못하게 되면 커다란 금융 피해를 야기하게 된다. \n",
    "\n",
    ":::"
   ]
  },
  {
   "cell_type": "markdown",
   "id": "70a5bbd2-48aa-41c1-98e1-988eff578363",
   "metadata": {},
   "source": [
    "`-` 이상치 빼기"
   ]
  },
  {
   "cell_type": "markdown",
   "id": "ef92c32a-82c6-45f8-afd9-1297130be7c6",
   "metadata": {
    "tags": []
   },
   "source": [
    "## Introduction\n",
    "\n",
    "- Credit card fraud transactions, such as these anomalies, refer to patterns that do not conform to a well-defined notion of normal behavior.[@chandola2009anomaly]"
   ]
  },
  {
   "cell_type": "markdown",
   "id": "0e6b8381-911d-44df-a376-71820ca1d0b4",
   "metadata": {},
   "source": [
    "::: {.notes}\n",
    "\n",
    "- 이러한 신용카드 사기거래와 같은 이상치는 일반적인 행동으로 정의된 개념에 부합하지 않는 패턴을 말한다. \n",
    "\n",
    ":::"
   ]
  },
  {
   "cell_type": "markdown",
   "id": "95b6954d-b9a2-4379-aa43-994c34d78c15",
   "metadata": {},
   "source": [
    "## Introduction\n",
    "\n",
    "![Figure 2: A simple example of anomalies in a two-dimensional data set.](./figure/F5.png){width=70%}\n",
    "\n",
    "- Figure 2 illustrates anomalies in a simple two-dimensional dataset. In the data, most observations lie within two normal regions, N1 and N2, and points sufficiently distant from these regions, such as o1 and o2, and points in region O3, are defined as anomalies."
   ]
  },
  {
   "cell_type": "markdown",
   "id": "919e6959-d94b-40fc-84ac-a073eacc66d2",
   "metadata": {},
   "source": [
    "::: {.notes}\n",
    "\n",
    "- 그림 2은 간단한 이차원 데이터 집합에서의 이상치를 보여준다. 데이터에는 대부분의 관측치가 이 두 영역에 위치해 있는 정상 영역 N1과 N2에 있고, 이러한 영역으로부터 충분히 떨어진 점  o1과 o2, 그리고 영역 O3에 있는 점들은 이상치로 정의한다.\n",
    "\n",
    ":::"
   ]
  },
  {
   "cell_type": "markdown",
   "id": "dd527546-c2ff-4c57-a173-0745cfb5f3c1",
   "metadata": {
    "tags": []
   },
   "source": [
    "## Introduction\n",
    "\n",
    "- Existing research for outlier detection includes methods such as Classification, Clustering, Nearest Neighbor-Based, and Statistical approaches. However, research utilizing conventional methodologies for fraud transaction detection often fails to capture complex fraud patterns. Thus, in this study, we aim to detect outliers in fraudulent transactions using graph-based techniques."
   ]
  },
  {
   "cell_type": "markdown",
   "id": "01520194-b70e-4b10-b788-07fd16e39f08",
   "metadata": {},
   "source": [
    "::: {.notes}\n",
    "\n",
    "- 이상치 탐지를 위한 기존 연구로는 Classification, Clustering,  Nearest Neighbo Based, Statistical 등의 방법이 있다. 기존 연구 방법론을 활용한 사기 거래 탐지 연구는 복잡한 사기 패턴을 포착하지 못한다. 이에 본 연구에서는 그래프를 활용하여 사기 거래의 이상치를 탐지하고자 한다.\n",
    "\n",
    "\n",
    ":::"
   ]
  },
  {
   "cell_type": "markdown",
   "id": "06b74b3c-4d38-48d5-9c44-56bed5f3ce88",
   "metadata": {},
   "source": [
    "`-` 관련연구: 신용카드 분석 / GCN anom / \n",
    "\n",
    "fraud detection/  gcn 교집합이 제일 좋음"
   ]
  },
  {
   "cell_type": "markdown",
   "id": "057317ac-7014-485d-a48c-ac7a48caa25d",
   "metadata": {
    "tags": []
   },
   "source": [
    "## Introduction\n",
    "\n",
    "- In graph-based analysis, there are bipartite graphs and tripartite graphs. Bipartite graphs have difficulty detecting anomalies in individual transactions. Tripartite graphs allow for easier analysis at the individual level, but they are time-consuming and complex.\n",
    "\n",
    "![Figure 3:An example of a bipartite graph](./figure/F2.png){width=70%}\n",
    "\n",
    "![Figure 4:An example of a tripartite graph](./figure/F3.png){width=70%}\n"
   ]
  },
  {
   "cell_type": "markdown",
   "id": "b3c0de47-8a1c-4ace-8e71-917ca438617a",
   "metadata": {},
   "source": [
    "> 돌린 결과 !!"
   ]
  },
  {
   "cell_type": "markdown",
   "id": "c52e506e-b628-4fc4-865a-8ccae5735143",
   "metadata": {},
   "source": [
    "> 위의.. 사진 암튼 어케 해보자"
   ]
  },
  {
   "cell_type": "markdown",
   "id": "4a094a97-bfb4-4cfe-9171-3377342f27a7",
   "metadata": {},
   "source": [
    "::: {.notes}\n",
    "\n",
    "- 그래프 기반 분석 방법으로는 이분형 그래프와 삼분형 그래프가 있다. 이분형 그래프는 개별 거래의 이상치 탐지에 어려움이 있다. 삼분형은 개별 수준의 분석이 용이하지만 거래 시간이 오래 걸리고 복잡하다는 단점이 있다.\n",
    "\n",
    ":::"
   ]
  },
  {
   "cell_type": "markdown",
   "id": "80424bce-b4a6-4563-8282-8d86fdf52ead",
   "metadata": {
    "tags": []
   },
   "source": [
    "## Introduction\n",
    "\n",
    "Therefore, in this study, we propose a method to enhance the connectivity of graphs using the time differences between transactions. Through this method, we aim to address the following questions:\n",
    "\n",
    "1. Is it easier to identify individual transactions compared to non-graph-based research methods?\n",
    "\n",
    "2. Is it simpler compared to graph-based research methods?"
   ]
  },
  {
   "cell_type": "markdown",
   "id": "17df5ede-8af4-458b-8edb-9341ed0fb093",
   "metadata": {},
   "source": [
    "::: {.notes}\n",
    "\n",
    "이에 본 연구에서는 거래 간 시간 차이를 이용해 그래프의 연결성을 향상시키는 방법을 제안하고자 한다.\n",
    "이 방법을 통해 확인하고 싶은 내용은 다음과 같다.\n",
    "\n",
    "1. 비 그래프 기반 연구 방법에 비해 개별 거래 파악이 용이한가?\n",
    "\n",
    "2. 그래프 기반 연구 방법에 비해 간단한가? \n",
    "\n",
    "\n",
    ":::"
   ]
  },
  {
   "cell_type": "code",
   "execution_count": null,
   "id": "8d1b7e41-39f9-45ff-8270-5605c13a3fd2",
   "metadata": {},
   "outputs": [],
   "source": []
  },
  {
   "cell_type": "markdown",
   "id": "fb9119a7-2917-4bc0-abdb-ac2e7d6f61c0",
   "metadata": {},
   "source": [
    "## Introduction\n",
    "\n",
    "To begin research on fraud detection based on graph analysis, let's first understand the concept of a graph.\n",
    "\n",
    "- Graph $G = (V,E)$ with $N$ nodes $i \\in v$ and $|E|$ edges $(i,j) \\in E$\n",
    "\n",
    "- $A \\in \\mathbb{R}^{N \\times N}$: adjacency matrix of $G$\n",
    "\n",
    "- $X \\in \\mathbb{R}^{N \\times P}$ is the matrix of node features\n",
    "\n",
    "- The graph $G$ consists of nodes and edges denoted by $(V,E)$, where $V$ represents the set of nodes and $E$ represents the set of edges. Each node and edge has its own features.\n",
    "\n",
    "\"그래프 간단한 특성? 사진()\""
   ]
  },
  {
   "cell_type": "markdown",
   "id": "e5cfbb4d-7144-4047-a88c-b8d030ce9ba2",
   "metadata": {},
   "source": [
    "::: {.notes}\n",
    "\n",
    "그래프 관련 기반 사기 거래 탐지 연구를 위해서 먼저, 그래프에 대해 알아보자.\n",
    "\n",
    "- Graph $G = (V,E)$ with $N$ nodes $i \\in v$ and $|E|$ edges $(i,j) \\in E$\n",
    "\n",
    "- $A \\in \\mathbb{R}^{N \\times N}$: adjacency matrix of G\n",
    "\n",
    "- $X \\in \\mathbb{R}^{N \\times P}$ is matrix of node features\n",
    "\n",
    "- 그래프 G는 (V,E)로 이루어져 있고, V는 node, E는 edge의 집합이다. 각 노드와 에지는 특징을 가지고 있고 간단하게 아래와 같은 그림으로 나타낼 수 있다.\n",
    "\n",
    ":::"
   ]
  },
  {
   "cell_type": "code",
   "execution_count": null,
   "id": "d0119478-261b-47c2-a63c-8cb5ee531420",
   "metadata": {},
   "outputs": [],
   "source": []
  },
  {
   "cell_type": "code",
   "execution_count": null,
   "id": "e03c8465-777a-40b1-a87a-5a6957199fcb",
   "metadata": {},
   "outputs": [],
   "source": []
  },
  {
   "cell_type": "markdown",
   "id": "5b15278c-b781-4994-a952-6b1a9e35386d",
   "metadata": {},
   "source": [
    "# Related Studies"
   ]
  },
  {
   "cell_type": "markdown",
   "id": "3c939964-3529-4d7c-ae5c-34e53ce4a098",
   "metadata": {},
   "source": [
    "> Related Studies\n",
    "> 정확하게 어떤 것을 넣어야할지 잘 모르겠담. .흠.."
   ]
  },
  {
   "cell_type": "markdown",
   "id": "4c62490a-9efd-4ef0-940d-34322fd5813b",
   "metadata": {},
   "source": [
    "# Data description"
   ]
  },
  {
   "cell_type": "markdown",
   "id": "209577c9-842f-4467-82e3-47436e0f1b04",
   "metadata": {},
   "source": [
    "## Data description\n",
    "\n",
    "The dataset under consideration contains credit card transaction records from European cardholders captured in the month of September 2013. It encompasses transactions that were conducted across a network of 800 merchants and includes data from\n",
    "1,000 individual cardholders. Originally, this dataset is composed of 23 distinct features that offer various insights into each transaction. However, for the purposes of\n",
    "this study, we have selectively utilized only a subset of these features that are deemed\n",
    "most relevant to our analysis objectives.\n"
   ]
  },
  {
   "cell_type": "markdown",
   "id": "b8c3d519-5e2e-470a-b1d8-d431f3d44531",
   "metadata": {},
   "source": [
    "::: {.notes}\n",
    "\n",
    "고려 중인 데이터 세트에는 2013년 9월 한 달 동안 수집된 유럽 카드 소지자의 신용카드 거래 기록이 포함되어 있습니다. 800개의 가맹점 네트워크에서 이루어진 거래가 포함되며 다음 데이터를 포함합니다.\n",
    "1,000명의 개별 카드 소유자. 원래 이 데이터 세트는 각 거래에 대한 다양한 인사이트를 제공하는 23개의 고유한 기능으로 구성되어 있습니다. 하지만 이 연구의 목적을 위해\n",
    "이 연구에서는 분석 목표와 가장 관련이 있다고 판단되는 일부 기능만\n",
    "분석 목표와 가장 관련이 있다고 판단되는 일부 기능만을 선택적으로 활용했습니다.\n",
    "\n",
    ":::"
   ]
  },
  {
   "cell_type": "markdown",
   "id": "1ed6d367-193e-42ab-b60e-91104286017b",
   "metadata": {},
   "source": [
    "> 다른 데이터들을 찾아봤는데 연구에 필요한 (인덱스나 시간컬럼)이 없어서 사용할 수 없다는 내용은 구두로만 하는게 좋음"
   ]
  },
  {
   "cell_type": "markdown",
   "id": "77c2a5bb-3ff5-45cc-8f56-15a8d8c6fa75",
   "metadata": {
    "tags": []
   },
   "source": [
    "## Data description\n",
    "\n",
    "| Variable                 | Description                                           |\n",
    "|--------------------------|-------------------------------------------------------|\n",
    "| index                | Identifier for each row, row number.                  |\n",
    "| cc_num                | The customer's credit card number.                    |\n",
    "| trans_date_and_time    | Trading hours.                                       |\n",
    "|amt                   | Transaction amount.                                   |\n",
    "| is_fraud               | Indicate whether the transaction is fraudulent (0: legitimate, 1: fraudulent). |\n",
    "\n",
    "[Table 1: A list of data variables used in the study]"
   ]
  },
  {
   "cell_type": "markdown",
   "id": "a34207a4-1c94-48b9-b38e-bd9fa58ee56e",
   "metadata": {},
   "source": [
    "## Data description"
   ]
  },
  {
   "cell_type": "markdown",
   "id": "94014bb1-9a33-4ae8-96c3-97f04bb24f3b",
   "metadata": {},
   "source": [
    "> 원 데이터 표 형식으로 추가?"
   ]
  },
  {
   "cell_type": "markdown",
   "id": "e259d3f5-63c4-4865-8e0e-21fffba16405",
   "metadata": {},
   "source": [
    "## Data description"
   ]
  },
  {
   "cell_type": "markdown",
   "id": "472f5a1a-d005-4f32-8997-194711b0e392",
   "metadata": {},
   "source": [
    "> 활용 데이터 표 형식으로 추가?"
   ]
  },
  {
   "cell_type": "markdown",
   "id": "9ea9b70f-6605-435d-9762-1dcf8a4cf6fb",
   "metadata": {},
   "source": [
    "# Proposed method"
   ]
  },
  {
   "cell_type": "markdown",
   "id": "bb9ab91c-8882-4fa8-b814-63757fd30933",
   "metadata": {},
   "source": [
    "## Proposed method\n",
    "\n",
    "Let's say the given data is $\\bf X, \\bf y$, where $\\bf X$ is a matrix with $N$ rows and $\\bf y$ is a vector of length $N$. $\\bf y$ contains labels indicating the presence of fraud, while $\\bf X$ represents the design matrix necessary for predicting $\\bf y$. We interpret the given data as a graph. Let $\\cal I$ be the set of $\\tt cc\\_num$. "
   ]
  },
  {
   "cell_type": "markdown",
   "id": "e0397bf3-0ab8-46ce-8c39-4ff3ca5c07b0",
   "metadata": {},
   "source": [
    "## Proposed method\n",
    "\n",
    "Moreover, let $\\cal T_i, i \\in \\cal I$, be the set of transaction times for the $i$-th customer. The given data can be expressed as $\\cal D:=\\{(\\bf X_{i,t},{\\bf y}_{i,t}): i \\in {\\cal I}, t \\in {\\cal T}_i \\}$. To represent the graph structure, we need to define nodes and edges. The set of nodes is defined as $\\cal V = \\{v_{i,t}: i \\in {\\cal I}, t \\in {\\cal T}_i \\}$. Note that $|{\\cal V}|=\\sum_{i \\in {\\cal I}} |{\\cal T}_i|=N$. The links between data points are defined as ${\\cal E} = \\bigcup_{i \\in {\\cal I}} \\{ (v_{i,t},v_{i,s}) : t,s \\in {\\cal T}_i \\text{ and } t\\neq s \\}$, considering connections only within the same customer. "
   ]
  },
  {
   "cell_type": "markdown",
   "id": "8ec323d4-36ce-4ee0-89e4-cd0a198786fb",
   "metadata": {},
   "source": [
    "## Proposed method\n",
    "\n",
    "For a fixed $i \\in {\\cal I}$, the $(t,s)$-th elements of ${\\bf W}_i$ are defined as $\\exp(\\frac{-|t-s|_2^2}{\\theta})$ where $t,s \\in {\\cal T}_i$, and the $N \\times N$ weight matrix ${\\bf W}$ is defined as the following block matrix:\n",
    "\n",
    "${\\bf W}=\\begin{bmatrix}\n",
    "{\\bf W}_1 & {\\bf 0} & {\\bf 0} & \\dots & {\\bf 0} \\\\ \n",
    "{\\bf 0} & {\\bf W}_2 & {\\bf 0} & \\dots & {\\bf 0} \\\\ \n",
    "{\\bf 0} & {\\bf 0} & {\\bf W}_3 & \\dots & {\\bf 0} \\\\ \n",
    "\\dots & \\dots & \\dots & \\dots & \\dots \\\\ \n",
    "{\\bf 0} & {\\bf 0} & {\\bf 0} & \\dots & {\\bf W}_{|{\\cal I}|}\n",
    "\\end{bmatrix}$\n",
    "\n",
    "Note that if ${\\bf W}={\\bf I}$, it implies a classical tabular data structure rather than a graph data structure. ${\\bf A}$ is the adjacency matrix corresponding to ${\\bf W}$."
   ]
  },
  {
   "cell_type": "markdown",
   "id": "9dc15f01-d0c0-42d3-8b7f-0bdbe0091f31",
   "metadata": {},
   "source": [
    "## Proposed method\n",
    "\n",
    "[@kipf2016semi] To predict ${\\bf y}$, we stacked graph convolution layers as follows:\n",
    "\n",
    "$${\\bf H}^{(l+1)} = \\sigma\\big({\\bf D}^{-1/2}{\\bf A}{\\bf D}^{-1/2}{\\bf H}^{(l)} {\\bf \\Theta}^{(l)}) \\big)$$\n",
    "\n",
    "Here, ${\\bf D}$ is the degree matrix of ${\\bf A}, {\\bf \\Theta}^{(l)}$ represents the learnable parameters, and $\\sigma$ denotes the activation function. ${\\bf H}^{(l)}$ is the input for the $l$th layer, and ${\\bf H}^{(l+1)}$ is the output, where for $l=0, {\\bf H}^{(0)}={\\bf X}$, and the output of the final layer is defined as ${\\bf y}$.\n"
   ]
  },
  {
   "cell_type": "markdown",
   "id": "e65e535d-8e5a-44a9-98aa-3107525908ff",
   "metadata": {},
   "source": [
    "> 위의 내용은 포스터 때 했던 건데 줄글 형식보닩 단답으로 표시해주는게 좋을 듯"
   ]
  },
  {
   "cell_type": "markdown",
   "id": "0b80c241-547c-4864-be4c-30d2a6f75356",
   "metadata": {},
   "source": [
    "# Experimental Research"
   ]
  },
  {
   "cell_type": "markdown",
   "id": "9aee0dc9-0ead-4d16-88cc-c9516be46e66",
   "metadata": {},
   "source": [
    "## Experimetal setting"
   ]
  },
  {
   "cell_type": "code",
   "execution_count": null,
   "id": "ec336e55-a62a-447d-8c44-853a05f6eb24",
   "metadata": {},
   "outputs": [],
   "source": []
  },
  {
   "cell_type": "code",
   "execution_count": null,
   "id": "785f3d96-3888-43a9-9409-ef4b463d056a",
   "metadata": {},
   "outputs": [],
   "source": []
  },
  {
   "cell_type": "code",
   "execution_count": null,
   "id": "8477b2b7-6d48-4846-b563-3d12638e6477",
   "metadata": {},
   "outputs": [],
   "source": []
  },
  {
   "cell_type": "markdown",
   "id": "ca0341e4-294d-4c76-b178-b98e6be93b43",
   "metadata": {},
   "source": [
    "실험1\n",
    "\n",
    "원 데이터 pyod / autogluon / proposed"
   ]
  },
  {
   "cell_type": "markdown",
   "id": "a37a3472-d691-43cd-800d-337bfc4d26a7",
   "metadata": {},
   "source": [
    "실험2\n",
    "\n",
    "df50 pyod / autogluon / proposed"
   ]
  },
  {
   "cell_type": "markdown",
   "id": "6694efc1-3a8c-4e44-9738-cb32d63554d5",
   "metadata": {},
   "source": [
    "실험3\n",
    "\n"
   ]
  },
  {
   "cell_type": "markdown",
   "id": "f3a2ea77-6d90-481e-9abd-b3db7065669e",
   "metadata": {},
   "source": [
    "# Conclusion and Discussion"
   ]
  },
  {
   "cell_type": "markdown",
   "id": "0b41ebce-c19d-42be-b2dd-587f1979993b",
   "metadata": {},
   "source": [
    "# Reference"
   ]
  },
  {
   "cell_type": "code",
   "execution_count": null,
   "id": "89f27394-d138-4474-9154-1fcbde0b7734",
   "metadata": {},
   "outputs": [],
   "source": []
  }
 ],
 "metadata": {
  "kernelspec": {
   "display_name": "Python 3 (ipykernel)",
   "language": "python",
   "name": "python3"
  },
  "language_info": {
   "codemirror_mode": {
    "name": "ipython",
    "version": 3
   },
   "file_extension": ".py",
   "mimetype": "text/x-python",
   "name": "python",
   "nbconvert_exporter": "python",
   "pygments_lexer": "ipython3",
   "version": "3.8.18"
  }
 },
 "nbformat": 4,
 "nbformat_minor": 5
}
