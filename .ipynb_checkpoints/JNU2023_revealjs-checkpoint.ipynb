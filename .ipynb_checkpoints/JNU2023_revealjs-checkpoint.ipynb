{
 "cells": [
  {
   "cell_type": "raw",
   "id": "f8e0294c-740a-4a98-8a04-08b5cc173243",
   "metadata": {},
   "source": [
    "---\n",
    "title: \"Heavy-snow transform\"\n",
    "bibliography: ref.bib\n",
    "subtitle: \"A new multiscale method for non-Euclidean data\"\n",
    "author: \"Guebin Choi\"\n",
    "title-block-style: default\n",
    "title-block-banner: true\n",
    "format:\n",
    "  revealjs:\n",
    "    chalkboard: true\n",
    "    slide-number: true\n",
    "    suppress-bibliography: true\n",
    "---"
   ]
  },
  {
   "cell_type": "markdown",
   "id": "66966902",
   "metadata": {},
   "source": [
    "## Contents \n",
    "\n",
    "- Motivation \n",
    "\n",
    "- Proposed method (quick view) \n",
    "\n",
    "- Related studies\n",
    "\n",
    "- Proposed method\n",
    "\n",
    "- Real data analysis\n"
   ]
  },
  {
   "cell_type": "markdown",
   "id": "031fd155-1358-4e9f-a3b5-e1ab021406af",
   "metadata": {},
   "source": [
    "한글도 될까?"
   ]
  },
  {
   "cell_type": "markdown",
   "id": "9aa19f7c-13df-4341-b6c2-ec68c005d41f",
   "metadata": {},
   "source": [
    "HAN~~"
   ]
  },
  {
   "cell_type": "code",
   "execution_count": null,
   "id": "03169dcc-dbae-41d5-975d-6601ae6c220f",
   "metadata": {},
   "outputs": [],
   "source": []
  }
 ],
 "metadata": {
  "kernelspec": {
   "display_name": "Python 3 (ipykernel)",
   "language": "python",
   "name": "python3"
  },
  "language_info": {
   "codemirror_mode": {
    "name": "ipython",
    "version": 3
   },
   "file_extension": ".py",
   "mimetype": "text/x-python",
   "name": "python",
   "nbconvert_exporter": "python",
   "pygments_lexer": "ipython3",
   "version": "3.8.18"
  }
 },
 "nbformat": 4,
 "nbformat_minor": 5
}
