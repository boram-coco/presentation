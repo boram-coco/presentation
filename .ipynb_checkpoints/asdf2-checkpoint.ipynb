{
 "cells": [
  {
   "cell_type": "raw",
   "id": "251ea571-7cf9-4a3c-88db-729b33f0d9be",
   "metadata": {},
   "source": [
    "---\n",
    "title: \"Research on Anomaly Detection in Credit Card Fraud Transactions Using GCN\"\n",
    "bibliography: ref.bib\n",
    "author: \"Boram KIM\"\n",
    "institute: \"Department of Statistics, Jeonbuk National University\"\n",
    "title-block-style: default\n",
    "title-block-banner: true\n",
    "format:\n",
    "  revealjs:\n",
    "    chalkboard: true\n",
    "    slide-number: true\n",
    "    suppress-bibliography: false\n",
    "---"
   ]
  },
  {
   "cell_type": "markdown",
   "id": "8291c707-4d1b-408e-97ad-c8c0d2928148",
   "metadata": {
    "tags": []
   },
   "source": [
    "# Contents \n",
    "\n",
    "- Introduction\n",
    "\n",
    "- Related studies\n",
    "\n",
    "- Data Description\n",
    "\n",
    "- Proposed method\n",
    "\n",
    "- Real data analysis\n"
   ]
  },
  {
   "cell_type": "markdown",
   "id": "d20495ce-1dc1-41e5-80e1-aec08d6b9e1c",
   "metadata": {},
   "source": [
    "# Introduction"
   ]
  },
  {
   "cell_type": "markdown",
   "id": "80949ba1-e1dd-4cce-8383-4c9b61c923e9",
   "metadata": {},
   "source": [
    "## Introduction\n",
    "\n",
    "\n",
    "- With the advancement of information technology (IT), many countries are reducing the use of cash and opting for credit cards. According to the '2021 Survey on Cash Usage Behavior by Economic Entities' announced by the Bank of Korea in 2022 (which is conducted every three years), the proportion of cash usage in South Korea has dropped significantly. "
   ]
  },
  {
   "cell_type": "markdown",
   "id": "c8fb309e-64fc-4ac7-8aba-e22eca5ea08b",
   "metadata": {},
   "source": [
    "::: {.notes}\n",
    "\n",
    "- IT 등 정보기술의 발달로 많은 나라가 현금의 사용을 줄이고 신용 카드를 이용해 사용하고 있다. 우리나라도 2022년 한국은행이 발표한 '2021년 경제주체별 현금사용행태 조사'*(3년 마다 진행되는 조사)결과에 따르면, 현금 사용 비중은 2015년 38.8%에서 2018년 32.1%로 하락한 뒤 이번에 처음으로 20%대로 낮아졌다. 반면 신용·체크카드 비중은 2015년 37.4%, 2018년 52.0%, 2021년 58.3%로 증가했다.(출처: 한국은행-2021년 경제주체별 현금사용행태 조사 결과)\n",
    "\n",
    ":::"
   ]
  },
  {
   "cell_type": "markdown",
   "id": "be3c3b8e-ddcd-499f-8185-57cc9222615c",
   "metadata": {
    "tags": []
   },
   "source": [
    "## Introduction\n",
    "\n",
    "![Figure 1: 2021 Survey on Cash Usage Behavior by Economic Entities](./figure/F1.png){width=70%}"
   ]
  },
  {
   "cell_type": "markdown",
   "id": "f8b42503-ed12-4944-bcf8-71eca1d50ea6",
   "metadata": {},
   "source": [
    "::: {.notes}\n",
    "\n",
    "우리나라도 2022년 한국은행이 발표한 '2021년 경제주체별 현금사용행태 조사'*(3년 마다 진행되는 조사)결과에 따르면, 현금 사용 비중은 2015년 38.8%에서 2018년 32.1%로 하락한 뒤 이번에 처음으로 20%대로 낮아졌다. 반면 신용·체크카드 비중은 2015년 37.4%, 2018년 52.0%, 2021년 58.3%로 증가했다.(출처: 한국은행-2021년 경제주체별 현금사용행태 조사 결과)\n",
    "\n",
    "\n",
    "- Cash usage decreased from 38.8% in 2015 to 32.1% in 2018, and for the first time, it fell into the 20% range. In contrast, the proportion of credit and debit card usage increased from 37.4% in 2015 to 52.0% in 2018, and further to 58.3% in 2021.\n",
    "\n",
    ":::"
   ]
  },
  {
   "cell_type": "code",
   "execution_count": null,
   "id": "c7db16fc-5dca-4ae1-b4b2-f8999c5d7fb8",
   "metadata": {},
   "outputs": [],
   "source": []
  },
  {
   "cell_type": "markdown",
   "id": "f7c36bdf-b3b8-4a18-a4d1-91ce603ad349",
   "metadata": {},
   "source": [
    "## Introduction\n",
    "\n",
    "- As cash liquidity decreases, transactions through virtual currencies, cards, and other electronic means are on the rise. While the use of credit cards offers convenience for consumers and facilitates analysis of spending patterns, it also raises concerns about card fraud. If card issuers and consumers fail to detect fraudulent transactions, it can lead to significant financial losses."
   ]
  },
  {
   "cell_type": "markdown",
   "id": "cbbb5f8c-88fb-4b6f-8d65-30530ebb9019",
   "metadata": {},
   "source": [
    "::: {.notes}\n",
    "\n",
    "- 현금의 유동성은 감소하고 가상 화폐, 카드 등의 거래가 커지고 있는 셈이다. 신용카드의 사용은 소비자의 거래 편리성을 제공하고 소비 패턴을 분석하는데 있어 용이하지만, 카드 사기 거래를 야기시킨다. 이에 카드 발급기관 및 소비자는 카드의 사기거래를 파악하지 못하게 되면 커다란 금융 피해를 야기하게 된다. \n",
    "\n",
    ":::"
   ]
  },
  {
   "cell_type": "markdown",
   "id": "9fdcb2fd-4aa2-4c29-b870-26621339d5d5",
   "metadata": {},
   "source": [
    "`-` 이상치 빼기"
   ]
  },
  {
   "cell_type": "markdown",
   "id": "5d79502c-8d65-4b0e-ada1-4fa5c59a9d5e",
   "metadata": {
    "tags": []
   },
   "source": [
    "## Introduction\n",
    "\n",
    "- Credit card fraud transactions, such as these anomalies, refer to patterns that do not conform to a well-defined notion of normal behavior.[@chandola2009anomaly]"
   ]
  },
  {
   "cell_type": "markdown",
   "id": "e785b2e3-714b-47b9-a865-74c1131488ce",
   "metadata": {},
   "source": [
    "::: {.notes}\n",
    "\n",
    "- 이러한 신용카드 사기거래와 같은 이상치는 일반적인 행동으로 정의된 개념에 부합하지 않는 패턴을 말한다. \n",
    "\n",
    ":::"
   ]
  },
  {
   "cell_type": "markdown",
   "id": "0ce0908c-d3c9-4330-9412-e014d4ac4827",
   "metadata": {},
   "source": [
    "## Introduction\n",
    "\n",
    "![Figure 2: A simple example of anomalies in a two-dimensional data set.](./figure/F5.png){width=70%}\n",
    "\n",
    "- Figure 2 illustrates anomalies in a simple two-dimensional dataset. In the data, most observations lie within two normal regions, N1 and N2, and points sufficiently distant from these regions, such as o1 and o2, and points in region O3, are defined as anomalies."
   ]
  },
  {
   "cell_type": "markdown",
   "id": "dc09d898-496b-4cb6-a690-e823b02fc398",
   "metadata": {},
   "source": [
    "::: {.notes}\n",
    "\n",
    "- 그림 2은 간단한 이차원 데이터 집합에서의 이상치를 보여준다. 데이터에는 대부분의 관측치가 이 두 영역에 위치해 있는 정상 영역 N1과 N2에 있고, 이러한 영역으로부터 충분히 떨어진 점  o1과 o2, 그리고 영역 O3에 있는 점들은 이상치로 정의한다.\n",
    "\n",
    ":::"
   ]
  },
  {
   "cell_type": "markdown",
   "id": "65f9467c-6146-474d-bc6d-c7ee222d6fe0",
   "metadata": {
    "tags": []
   },
   "source": [
    "## Introduction\n",
    "\n",
    "- Existing research for outlier detection includes methods such as Classification, Clustering, Nearest Neighbor-Based, and Statistical approaches. However, research utilizing conventional methodologies for fraud transaction detection often fails to capture complex fraud patterns. Thus, in this study, we aim to detect outliers in fraudulent transactions using graph-based techniques."
   ]
  },
  {
   "cell_type": "markdown",
   "id": "027a77e8-3cc3-42c1-94db-305e9969566b",
   "metadata": {},
   "source": [
    "::: {.notes}\n",
    "\n",
    "- 이상치 탐지를 위한 기존 연구로는 Classification, Clustering,  Nearest Neighbo Based, Statistical 등의 방법이 있다. 기존 연구 방법론을 활용한 사기 거래 탐지 연구는 복잡한 사기 패턴을 포착하지 못한다. 이에 본 연구에서는 그래프를 활용하여 사기 거래의 이상치를 탐지하고자 한다.\n",
    "\n",
    "\n",
    ":::"
   ]
  },
  {
   "cell_type": "markdown",
   "id": "bee638fa-94da-4606-8936-0709e5709328",
   "metadata": {},
   "source": [
    "`-` 관련연구: 신용카드 분석 / GCN anom / \n",
    "\n",
    "fraud detection/  gcn 교집합이 제일 좋음"
   ]
  },
  {
   "cell_type": "markdown",
   "id": "41bc8374-4210-4366-82ee-027454b77374",
   "metadata": {
    "tags": []
   },
   "source": [
    "## Introduction\n",
    "\n",
    "- In graph-based analysis, there are bipartite graphs and tripartite graphs. Bipartite graphs have difficulty detecting anomalies in individual transactions. Tripartite graphs allow for easier analysis at the individual level, but they are time-consuming and complex.\n",
    "\n",
    "![Figure 3:An example of a bipartite graph](./figure/F2.png){width=70%}\n",
    "\n",
    "![Figure 4:An example of a tripartite graph](./figure/F3.png){width=70%}\n"
   ]
  },
  {
   "cell_type": "markdown",
   "id": "fef5bbf8-eae8-4117-b569-8cb16f6678e7",
   "metadata": {},
   "source": [
    "> 돌린 결과 !!"
   ]
  },
  {
   "cell_type": "markdown",
   "id": "2dac403d-3c31-4a24-9add-1286476732ed",
   "metadata": {},
   "source": [
    "> 위의.. 사진 암튼 어케 해보자"
   ]
  },
  {
   "cell_type": "markdown",
   "id": "ebf96ff9-056a-44eb-a75a-eb5ef879c640",
   "metadata": {},
   "source": [
    "::: {.notes}\n",
    "\n",
    "- 그래프 기반 분석 방법으로는 이분형 그래프와 삼분형 그래프가 있다. 이분형 그래프는 개별 거래의 이상치 탐지에 어려움이 있다. 삼분형은 개별 수준의 분석이 용이하지만 거래 시간이 오래 걸리고 복잡하다는 단점이 있다.\n",
    "\n",
    ":::"
   ]
  },
  {
   "cell_type": "markdown",
   "id": "a3e1db12-f0f6-45e2-9bef-80b362e09d6b",
   "metadata": {
    "tags": []
   },
   "source": [
    "## Introduction\n",
    "\n",
    "Therefore, in this study, we propose a method to enhance the connectivity of graphs using the time differences between transactions. Through this method, we aim to address the following questions:\n",
    "\n",
    "1. Is it easier to identify individual transactions compared to non-graph-based research methods?\n",
    "\n",
    "2. Is it simpler compared to graph-based research methods?"
   ]
  },
  {
   "cell_type": "markdown",
   "id": "f7d2f73a-d49c-4737-9a8e-e03203d52032",
   "metadata": {},
   "source": [
    "::: {.notes}\n",
    "\n",
    "이에 본 연구에서는 거래 간 시간 차이를 이용해 그래프의 연결성을 향상시키는 방법을 제안하고자 한다.\n",
    "이 방법을 통해 확인하고 싶은 내용은 다음과 같다.\n",
    "\n",
    "1. 비 그래프 기반 연구 방법에 비해 개별 거래 파악이 용이한가?\n",
    "\n",
    "2. 그래프 기반 연구 방법에 비해 간단한가? \n",
    "\n",
    "\n",
    ":::"
   ]
  },
  {
   "cell_type": "code",
   "execution_count": null,
   "id": "9431b5e3-e4f5-48f3-aa89-0bcdb49f101a",
   "metadata": {},
   "outputs": [],
   "source": []
  },
  {
   "cell_type": "markdown",
   "id": "95f6d5db-0a0d-4935-8f3a-b2aca9367745",
   "metadata": {},
   "source": [
    "## Introduction\n",
    "\n",
    "To begin research on fraud detection based on graph analysis, let's first understand the concept of a graph.\n",
    "\n",
    "- Graph $G = (V,E)$ with $N$ nodes $i \\in v$ and $|E|$ edges $(i,j) \\in E$\n",
    "\n",
    "- $A \\in \\mathbb{R}^{N \\times N}$: adjacency matrix of $G$\n",
    "\n",
    "- $X \\in \\mathbb{R}^{N \\times P}$ is the matrix of node features\n",
    "\n",
    "- The graph $G$ consists of nodes and edges denoted by $(V,E)$, where $V$ represents the set of nodes and $E$ represents the set of edges. Each node and edge has its own features.\n",
    "\n",
    "\"그래프 간단한 특성? 사진()\""
   ]
  },
  {
   "cell_type": "markdown",
   "id": "b6df4758-4ea4-469c-9848-cc71aec59a5e",
   "metadata": {},
   "source": [
    "::: {.notes}\n",
    "\n",
    "그래프 관련 기반 사기 거래 탐지 연구를 위해서 먼저, 그래프에 대해 알아보자.\n",
    "\n",
    "- Graph $G = (V,E)$ with $N$ nodes $i \\in v$ and $|E|$ edges $(i,j) \\in E$\n",
    "\n",
    "- $A \\in \\mathbb{R}^{N \\times N}$: adjacency matrix of G\n",
    "\n",
    "- $X \\in \\mathbb{R}^{N \\times P}$ is matrix of node features\n",
    "\n",
    "- 그래프 G는 (V,E)로 이루어져 있고, V는 node, E는 edge의 집합이다. 각 노드와 에지는 특징을 가지고 있고 간단하게 아래와 같은 그림으로 나타낼 수 있다.\n",
    "\n",
    ":::"
   ]
  },
  {
   "cell_type": "code",
   "execution_count": null,
   "id": "3e5ad1d7-f547-418a-a835-9c0946c44f64",
   "metadata": {},
   "outputs": [],
   "source": []
  },
  {
   "cell_type": "code",
   "execution_count": null,
   "id": "8ed2b9aa-8a5f-4166-8526-2023e73b090b",
   "metadata": {},
   "outputs": [],
   "source": []
  },
  {
   "cell_type": "markdown",
   "id": "71d09ac0-ea3a-4e27-b19e-b8f4fd355d26",
   "metadata": {},
   "source": [
    "# Related Studies"
   ]
  },
  {
   "cell_type": "markdown",
   "id": "c6e30cf9-e713-47a1-8a3c-c3c5d5031767",
   "metadata": {},
   "source": [
    "> Related Studies\n",
    "> 정확하게 어떤 것을 넣어야할지 잘 모르겠담. .흠.."
   ]
  },
  {
   "cell_type": "markdown",
   "id": "993692a4-7a72-487d-a86b-c7c17e584fd7",
   "metadata": {},
   "source": [
    "# Data description"
   ]
  },
  {
   "cell_type": "markdown",
   "id": "dc929195-38d8-4c7b-ba4a-aac9db8e780c",
   "metadata": {},
   "source": [
    "## Data description\n",
    "\n",
    "The dataset under consideration contains credit card transaction records from European cardholders captured in the month of September 2013. It encompasses transactions that were conducted across a network of 800 merchants and includes data from\n",
    "1,000 individual cardholders. Originally, this dataset is composed of 23 distinct features that offer various insights into each transaction. However, for the purposes of\n",
    "this study, we have selectively utilized only a subset of these features that are deemed\n",
    "most relevant to our analysis objectives.\n"
   ]
  },
  {
   "cell_type": "markdown",
   "id": "3b587839-c33e-44fd-bf9e-2be58a4a0049",
   "metadata": {},
   "source": [
    "::: {.notes}\n",
    "\n",
    "고려 중인 데이터 세트에는 2013년 9월 한 달 동안 수집된 유럽 카드 소지자의 신용카드 거래 기록이 포함되어 있습니다. 800개의 가맹점 네트워크에서 이루어진 거래가 포함되며 다음 데이터를 포함합니다.\n",
    "1,000명의 개별 카드 소유자. 원래 이 데이터 세트는 각 거래에 대한 다양한 인사이트를 제공하는 23개의 고유한 기능으로 구성되어 있습니다. 하지만 이 연구의 목적을 위해\n",
    "이 연구에서는 분석 목표와 가장 관련이 있다고 판단되는 일부 기능만\n",
    "분석 목표와 가장 관련이 있다고 판단되는 일부 기능만을 선택적으로 활용했습니다.\n",
    "\n",
    ":::"
   ]
  },
  {
   "cell_type": "markdown",
   "id": "47ba196b-cb1a-46cd-9d25-0f3a2d14de27",
   "metadata": {},
   "source": [
    "> 다른 데이터들을 찾아봤는데 연구에 필요한 (인덱스나 시간컬럼)이 없어서 사용할 수 없다는 내용은 구두로만 하는게 좋음"
   ]
  },
  {
   "cell_type": "markdown",
   "id": "a77cade5-ae09-4cbf-b6f8-57f0a5da58eb",
   "metadata": {
    "tags": []
   },
   "source": [
    "## Data description\n",
    "\n",
    "| Variable                 | Description                                           |\n",
    "|--------------------------|-------------------------------------------------------|\n",
    "| index                | Identifier for each row, row number.                  |\n",
    "| cc_num                | The customer's credit card number.                    |\n",
    "| trans_date_and_time    | Trading hours.                                       |\n",
    "|amt                   | Transaction amount.                                   |\n",
    "| is_fraud               | Indicate whether the transaction is fraudulent (0: legitimate, 1: fraudulent). |\n",
    "\n",
    "[Table 1: A list of data variables used in the study]"
   ]
  },
  {
   "cell_type": "markdown",
   "id": "bf76b678-eacd-4564-a6ab-4ec156fcb6ed",
   "metadata": {},
   "source": [
    "## Data description"
   ]
  },
  {
   "cell_type": "markdown",
   "id": "b557148d-ede4-4b19-826a-759d826deb4c",
   "metadata": {},
   "source": [
    "> 원 데이터 표 형식으로 추가?"
   ]
  },
  {
   "cell_type": "markdown",
   "id": "062b409f-7a9a-42c7-a0fa-fc718f0906ce",
   "metadata": {},
   "source": [
    "## Data description"
   ]
  },
  {
   "cell_type": "markdown",
   "id": "6bd03f0b-91fb-4ee1-90e8-4f2c14b7dfa4",
   "metadata": {},
   "source": [
    "> 활용 데이터 표 형식으로 추가?"
   ]
  },
  {
   "cell_type": "markdown",
   "id": "5c4d0990-22c7-4ddb-9e94-171a474f4eef",
   "metadata": {},
   "source": [
    "# Proposed method"
   ]
  },
  {
   "cell_type": "markdown",
   "id": "40fbe1f6-c079-4eba-a0e1-932741de1c5a",
   "metadata": {},
   "source": [
    "## Proposed method\n",
    "\n",
    "Let's say the given data is $\\bf X, \\bf y$, where $\\bf X$ is a matrix with $N$ rows and $\\bf y$ is a vector of length $N$. $\\bf y$ contains labels indicating the presence of fraud, while $\\bf X$ represents the design matrix necessary for predicting $\\bf y$. We interpret the given data as a graph. Let $\\cal I$ be the set of $\\tt cc\\_num$. "
   ]
  },
  {
   "cell_type": "markdown",
   "id": "58de03d0-e2bd-42f4-9a37-68073353e2fe",
   "metadata": {},
   "source": [
    "## Proposed method\n",
    "\n",
    "Moreover, let $\\cal T_i, i \\in \\cal I$, be the set of transaction times for the $i$-th customer. The given data can be expressed as $\\cal D:=\\{(\\bf X_{i,t},{\\bf y}_{i,t}): i \\in {\\cal I}, t \\in {\\cal T}_i \\}$. To represent the graph structure, we need to define nodes and edges. The set of nodes is defined as $\\cal V = \\{v_{i,t}: i \\in {\\cal I}, t \\in {\\cal T}_i \\}$. Note that $|{\\cal V}|=\\sum_{i \\in {\\cal I}} |{\\cal T}_i|=N$. The links between data points are defined as ${\\cal E} = \\bigcup_{i \\in {\\cal I}} \\{ (v_{i,t},v_{i,s}) : t,s \\in {\\cal T}_i \\text{ and } t\\neq s \\}$, considering connections only within the same customer. "
   ]
  },
  {
   "cell_type": "markdown",
   "id": "c636d7a5-daeb-48d9-a34d-b9a3d4a75089",
   "metadata": {},
   "source": [
    "## Proposed method\n",
    "\n",
    "For a fixed $i \\in {\\cal I}$, the $(t,s)$-th elements of ${\\bf W}_i$ are defined as $\\exp(\\frac{-|t-s|_2^2}{\\theta})$ where $t,s \\in {\\cal T}_i$, and the $N \\times N$ weight matrix ${\\bf W}$ is defined as the following block matrix:\n",
    "\n",
    "${\\bf W}=\\begin{bmatrix}\n",
    "{\\bf W}_1 & {\\bf 0} & {\\bf 0} & \\dots & {\\bf 0} \\\\ \n",
    "{\\bf 0} & {\\bf W}_2 & {\\bf 0} & \\dots & {\\bf 0} \\\\ \n",
    "{\\bf 0} & {\\bf 0} & {\\bf W}_3 & \\dots & {\\bf 0} \\\\ \n",
    "\\dots & \\dots & \\dots & \\dots & \\dots \\\\ \n",
    "{\\bf 0} & {\\bf 0} & {\\bf 0} & \\dots & {\\bf W}_{|{\\cal I}|}\n",
    "\\end{bmatrix}$\n",
    "\n",
    "Note that if ${\\bf W}={\\bf I}$, it implies a classical tabular data structure rather than a graph data structure. ${\\bf A}$ is the adjacency matrix corresponding to ${\\bf W}$."
   ]
  },
  {
   "cell_type": "markdown",
   "id": "5260d0fb-a731-4316-be4e-83dc8bc5d2db",
   "metadata": {},
   "source": [
    "## Proposed method\n",
    "\n",
    "[@kipf2016semi] To predict ${\\bf y}$, we stacked graph convolution layers as follows:\n",
    "\n",
    "$${\\bf H}^{(l+1)} = \\sigma\\big({\\bf D}^{-1/2}{\\bf A}{\\bf D}^{-1/2}{\\bf H}^{(l)} {\\bf \\Theta}^{(l)}) \\big)$$\n",
    "\n",
    "Here, ${\\bf D}$ is the degree matrix of ${\\bf A}, {\\bf \\Theta}^{(l)}$ represents the learnable parameters, and $\\sigma$ denotes the activation function. ${\\bf H}^{(l)}$ is the input for the $l$th layer, and ${\\bf H}^{(l+1)}$ is the output, where for $l=0, {\\bf H}^{(0)}={\\bf X}$, and the output of the final layer is defined as ${\\bf y}$.\n"
   ]
  },
  {
   "cell_type": "markdown",
   "id": "64d777dc-7f53-491a-9e57-4aa2503e2d0c",
   "metadata": {},
   "source": [
    "> 위의 내용은 포스터 때 했던 건데 줄글 형식보닩 단답으로 표시해주는게 좋을 듯"
   ]
  },
  {
   "cell_type": "markdown",
   "id": "48e7bebc-d0ae-403d-970e-3992b2ab8f9b",
   "metadata": {},
   "source": [
    "# Experimental Research"
   ]
  },
  {
   "cell_type": "markdown",
   "id": "422658b8-e540-4861-8e57-a6b6d0b20dc4",
   "metadata": {},
   "source": [
    "## Experimetal setting"
   ]
  },
  {
   "cell_type": "code",
   "execution_count": null,
   "id": "21bbdb37-2184-4c8d-8cfd-28de3eacc4a1",
   "metadata": {},
   "outputs": [],
   "source": []
  },
  {
   "cell_type": "code",
   "execution_count": null,
   "id": "87ffce42-1bf9-4353-8ee2-e9c4e0c49bbd",
   "metadata": {},
   "outputs": [],
   "source": []
  },
  {
   "cell_type": "code",
   "execution_count": null,
   "id": "8ed8ebf8-f51c-4739-b506-50aa4029ae7f",
   "metadata": {},
   "outputs": [],
   "source": []
  },
  {
   "cell_type": "markdown",
   "id": "85f88cac-ec87-4a33-977c-d5dfd6bba15c",
   "metadata": {},
   "source": [
    "실험1\n",
    "\n",
    "원 데이터 pyod / autogluon / proposed"
   ]
  },
  {
   "cell_type": "markdown",
   "id": "426eb436-454f-4141-b4b9-d1f801ca98aa",
   "metadata": {},
   "source": [
    "실험2\n",
    "\n",
    "df50 pyod / autogluon / proposed"
   ]
  },
  {
   "cell_type": "markdown",
   "id": "f69bcea0-4260-4d64-aed4-86130e4d5069",
   "metadata": {},
   "source": [
    "실험3\n",
    "\n"
   ]
  },
  {
   "cell_type": "markdown",
   "id": "f9bd4f76-5a78-4cf5-b347-d63c79b7eaf5",
   "metadata": {},
   "source": [
    "# Conclusion and Discussion"
   ]
  },
  {
   "cell_type": "markdown",
   "id": "da771c4b-5d4a-4b0a-b05d-8f68c7ed0273",
   "metadata": {},
   "source": [
    "# Reference"
   ]
  },
  {
   "cell_type": "code",
   "execution_count": null,
   "id": "649d9020-460d-4143-b5c3-86dc8d96f974",
   "metadata": {},
   "outputs": [],
   "source": []
  }
 ],
 "metadata": {
  "kernelspec": {
   "display_name": "Python 3 (ipykernel)",
   "language": "python",
   "name": "python3"
  },
  "language_info": {
   "codemirror_mode": {
    "name": "ipython",
    "version": 3
   },
   "file_extension": ".py",
   "mimetype": "text/x-python",
   "name": "python",
   "nbconvert_exporter": "python",
   "pygments_lexer": "ipython3",
   "version": "3.8.18"
  }
 },
 "nbformat": 4,
 "nbformat_minor": 5
}
